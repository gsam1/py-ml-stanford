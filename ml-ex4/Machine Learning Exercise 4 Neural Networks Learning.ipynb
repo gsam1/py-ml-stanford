{
 "cells": [
  {
   "cell_type": "markdown",
   "metadata": {},
   "source": [
    "## Programming Exercise 4: Neural Networks Learning"
   ]
  },
  {
   "cell_type": "markdown",
   "metadata": {},
   "source": [
    "#### Setup"
   ]
  },
  {
   "cell_type": "code",
   "execution_count": 1,
   "metadata": {
    "collapsed": true
   },
   "outputs": [],
   "source": [
    "import numpy as np\n",
    "from scipy.io import loadmat\n",
    "from scipy.optimize import minimize\n",
    "import matplotlib.pyplot as plt\n",
    "from IPython.display import Image\n",
    "\n",
    "data = loadmat('ex4data1.mat')\n",
    "weights = loadmat('ex4weights.mat')"
   ]
  },
  {
   "cell_type": "code",
   "execution_count": 2,
   "metadata": {},
   "outputs": [
    {
     "data": {
      "text/plain": [
       "['Theta2', '__version__', '__header__', 'Theta1', '__globals__']"
      ]
     },
     "execution_count": 2,
     "metadata": {},
     "output_type": "execute_result"
    }
   ],
   "source": [
    "# Padded with the ones at the beggining\n",
    "X, y = np.c_[np.ones((data['X'].shape[0],1)), data['X']], data['y'] \n",
    "# Showing that the weights contains theta1 and theta2\n",
    "weights.keys()"
   ]
  },
  {
   "cell_type": "markdown",
   "metadata": {},
   "source": [
    "#### Displaying the Data"
   ]
  },
  {
   "cell_type": "code",
   "execution_count": 3,
   "metadata": {},
   "outputs": [
    {
     "data": {
      "image/png": "[encoded data removed]",
      "text/plain": [
       "<matplotlib.figure.Figure at 0x7f7585fe0dd0>"
      ]
     },
     "metadata": {},
     "output_type": "display_data"
    }
   ],
   "source": [
    "rand_indices = np.random.choice(X.shape[0], 20)\n",
    "sel1 = X[rand_indices[0:20], 1:].reshape(-1,20).T\n",
    "\n",
    "plt.imshow(sel1, cmap='gray_r')\n",
    "plt.axis('off')\n",
    "plt.show()"
   ]
  },
  {
   "cell_type": "markdown",
   "metadata": {},
   "source": [
    "#### Model Representation\n",
    "Taken from the assignment's documentation:\n",
    "\n",
    "![Model](img/Neural_Network_Model.png)"
   ]
  },
  {
   "cell_type": "markdown",
   "metadata": {},
   "source": [
    "#### Cost Function"
   ]
  },
  {
   "cell_type": "code",
   "execution_count": 119,
   "metadata": {},
   "outputs": [],
   "source": [
    "def sigmoid(x):\n",
    "    return 1. / (1. + np.exp(-x))\n",
    "\n",
    "def sigmoid_gradient(x):\n",
    "    return sigmoid(x) * (1 - sigmoid(x))\n",
    "\n",
    "def nn_cost_function(nn_params, num_labels, X, y, reg):\n",
    "    \n",
    "    # Extracting the Thetas\n",
    "    theta1 = nn_params['Theta1']\n",
    "    theta2 = nn_params['Theta2']\n",
    "    \n",
    "    # Setuping some variables\n",
    "    m = X.shape[0]\n",
    "    J = 0\n",
    "    theta1_grad = np.zeros((theta1.shape))\n",
    "    theta2_grad = np.zeros((theta2.shape))\n",
    "    \n",
    "    # Regularization Function for the Cost\n",
    "    regfunc = float(reg) / (2. * m) * (np.square(theta1).sum() + np.square(theta2).sum())\n",
    "    \n",
    "    # FF neural network\n",
    "    ## Since X is already padded with 1 we don't need to add ones\n",
    "    a1 = X \n",
    "    ## Calculating the Hidden Layer\n",
    "    a2 = sigmoid(X.dot(theta1.T))\n",
    "    ## Then adding 1s\n",
    "    a2 = np.c_[np.ones((a2.shape[0],1)), a2]\n",
    "    ## Calculating the hypothesis\n",
    "    h_thx = sigmoid(a2.dot(theta2.T))\n",
    "    \n",
    "    # Calculating the Cost Function\n",
    "    for label in xrange(num_labels):\n",
    "        y_label = y == label + 1 # since python indexing starts from 0\n",
    "        h = h_thx[:,label].reshape(-1,1)\n",
    "        J_label = - 1. / m * (np.log(h).T.dot(y_label) + np.log(1 - h).T.dot(1 - y_label))\n",
    "        J = J + J_label\n",
    "        \n",
    "    # Dummy Gradient\n",
    "    grad = 0\n",
    "    \n",
    "    # Backpropagation\n",
    "    \n",
    "    # Some initial allocations to make it easier\n",
    "    delta_3 = np.zeros((num_labels, 1))\n",
    "    delta_2 = np.zeros((theta2.shape[1],1))\n",
    "    z2 = a1.dot(theta1.T)\n",
    "    \n",
    "    # -- for each sample point\n",
    "    for t in xrange(m):\n",
    "        for label in xrange(num_labels):\n",
    "            y_label = y[t,:] == label + 1\n",
    "            delta_3[label,:] = h_thx[t, label] - y_label\n",
    "            \n",
    "        delta_2 = theta2.T.dot(delta_3) * sigmoid_gradient(np.insert(z2[t,:], 0, 1.)).reshape(-1,1)\n",
    "        # Removing the first delta_2 value as it is to connected to +1\n",
    "        delta_2 = delta_2[1:,:]\n",
    "        \n",
    "        theta1_grad = theta1_grad + delta_2.dot(a1[t,:].reshape(-1,1).T)\n",
    "        theta2_grad = theta2_grad + delta_3.dot(a2[t,:].reshape(-1,1).T)\n",
    "        \n",
    "    \n",
    "    \n",
    "    theta1_grad = theta1_grad / m\n",
    "    theta2_grad = theta2_grad / m\n",
    "    \n",
    "        \n",
    "    grad = {\n",
    "        'Theta1_grad': theta1_grad,\n",
    "        'Theta2_grad': theta2_grad\n",
    "    }\n",
    "        \n",
    "    \n",
    "                        \n",
    "    return (J + regfunc, grad)"
   ]
  },
  {
   "cell_type": "markdown",
   "metadata": {},
   "source": [
    "##### Testing"
   ]
  },
  {
   "cell_type": "code",
   "execution_count": 120,
   "metadata": {},
   "outputs": [
    {
     "name": "stdout",
     "output_type": "stream",
     "text": [
      "Should be about 0.287629: 0.287629\n",
      "Should be about 0.383770: 0.384488\n",
      "Sigmoid Gradient. The 3rd value should be 0.25: [ 0.19661193  0.23500371  0.25        0.23500371  0.19661193]\n"
     ]
    }
   ],
   "source": [
    "# Cost Function with Lambda = 0\n",
    "cost_0, _ = nn_cost_function(weights, 10, X, y, 0)\n",
    "print \"Should be about 0.287629: %f\" % (cost_0)\n",
    "# Cost Function with Lambda = 1; Should be equal to 0.383770\n",
    "cost_1, _ = nn_cost_function(weights, 10, X, y, 1)\n",
    "print \"Should be about 0.383770: %f\" % (cost_1)\n",
    "\n",
    "# Testing Sigmoid Gradient\n",
    "tst = np.array([-1, -0.5, 0, 0.5, 1])\n",
    "g = sigmoid_gradient(tst)\n",
    "print \"Sigmoid Gradient. The 3rd value should be 0.25: \" + str(g)\n"
   ]
  },
  {
   "cell_type": "markdown",
   "metadata": {
    "collapsed": true
   },
   "source": [
    "#### Random Initialization\n",
    "Selecting values uniformly in the range [-0.12, 0.12]"
   ]
  },
  {
   "cell_type": "code",
   "execution_count": 6,
   "metadata": {
    "collapsed": true
   },
   "outputs": [],
   "source": [
    "def rand_init_weights(l_in, l_out, num_labels):\n",
    "    w_hidden_layer = np.random.uniform(0,1,(l_out, l_in + 1)) * 2 * 0.12 - 0.12\n",
    "    w_output = np.random.uniform(0,1,(num_labels, w_hidden_layer.shape[0] + 1)) * 2 * 0.12 - 0.12\n",
    "    \n",
    "    # Combining to be consistent with the input of the nn cost function\n",
    "    return {\n",
    "        'Theta1':w_hidden_layer,\n",
    "        'Theta2':w_output\n",
    "    }"
   ]
  },
  {
   "cell_type": "markdown",
   "metadata": {},
   "source": [
    "##### Initial Thetas"
   ]
  },
  {
   "cell_type": "code",
   "execution_count": 11,
   "metadata": {},
   "outputs": [],
   "source": [
    "initial_weights = rand_init_weights(400, 25, 10)"
   ]
  },
  {
   "cell_type": "code",
   "execution_count": 21,
   "metadata": {},
   "outputs": [
    {
     "name": "stdout",
     "output_type": "stream",
     "text": [
      "(5000, 401) (5000, 1)\n"
     ]
    }
   ],
   "source": [
    "print X.shape, y.shape"
   ]
  },
  {
   "cell_type": "code",
   "execution_count": null,
   "metadata": {
    "collapsed": true
   },
   "outputs": [],
   "source": []
  }
 ],
 "metadata": {
  "kernelspec": {
   "display_name": "Python 2",
   "language": "python",
   "name": "python2"
  },
  "language_info": {
   "codemirror_mode": {
    "name": "ipython",
    "version": 2
   },
   "file_extension": ".py",
   "mimetype": "text/x-python",
   "name": "python",
   "nbconvert_exporter": "python",
   "pygments_lexer": "ipython2",
   "version": "2.7.13"
  }
 },
 "nbformat": 4,
 "nbformat_minor": 2
}
