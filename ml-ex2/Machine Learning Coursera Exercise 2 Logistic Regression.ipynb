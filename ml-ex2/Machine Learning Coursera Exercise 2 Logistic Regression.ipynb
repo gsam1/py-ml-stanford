{
 "cells": [
  {
   "cell_type": "markdown",
   "metadata": {},
   "source": [
    "## Programming Exercise 2: Logistic Regression"
   ]
  },
  {
   "cell_type": "markdown",
   "metadata": {},
   "source": [
    "### Setup"
   ]
  },
  {
   "cell_type": "code",
   "execution_count": 6,
   "metadata": {
    "collapsed": true
   },
   "outputs": [],
   "source": [
    "# Setup Code\n",
    "import numpy as np\n",
    "import matplotlib.pyplot as plt\n",
    "# For that Surface plot\n",
    "from mpl_toolkits.mplot3d import Axes3D\n",
    "from matplotlib import cm\n",
    "# For the minimization function\n",
    "from scipy.optimize import minimize\n",
    "data1 = np.loadtxt('ex2data1.txt',delimiter=',')\n",
    "data2 = np.loadtxt('ex2data2.txt',delimiter=',')\n",
    "\n",
    "x1 = data1[:,[0,1]]\n",
    "y1 = data1[:,2]\n",
    "x2 = data2[:,[0,1]]\n",
    "y2 = data2[:,2]\n",
    "\n",
    "m1 = len(y1)\n",
    "m2 = len(y2)"
   ]
  },
  {
   "cell_type": "markdown",
   "metadata": {},
   "source": [
    "### Initial Plot of the data"
   ]
  },
  {
   "cell_type": "code",
   "execution_count": 7,
   "metadata": {},
   "outputs": [
    {
     "data": {
      "image/png": "[encoded data removed]",
      "text/plain": [
       "<matplotlib.figure.Figure at 0x7faf030202d0>"
      ]
     },
     "metadata": {},
     "output_type": "display_data"
    }
   ],
   "source": [
    "pos = np.where(y1 == 1)\n",
    "neg = np.where(y1 == 0)\n",
    "\n",
    "plt.scatter(x1[pos,0],x1[pos,1], color='b', marker='+', \n",
    "                                        label='Admitted')\n",
    "plt.scatter(x1[neg,0],x1[neg,1], color='y', marker='o',\n",
    "                                        label='Not Admitted')\n",
    "plt.ylabel('Exam 2 Score')\n",
    "plt.xlabel('Exam 1 Score')\n",
    "plt.legend(loc='upper right')\n",
    "\n",
    "plt.show()"
   ]
  },
  {
   "cell_type": "markdown",
   "metadata": {},
   "source": [
    "### Implementation"
   ]
  },
  {
   "cell_type": "code",
   "execution_count": 11,
   "metadata": {},
   "outputs": [
    {
     "name": "stdout",
     "output_type": "stream",
     "text": [
      "Cost at initial theta: 0.693147\n",
      "Gradients at initial theta:\n",
      "[ -0.1        -12.00921659 -11.26284221]\n",
      "\n",
      "\n",
      "Cost at test theta: 0.218330\n",
      "Gradients at test theta:\n",
      "[ 0.04290299  2.56623412  2.64679737]\n"
     ]
    }
   ],
   "source": [
    "# the sigmoid function\n",
    "def sigmoid(z):\n",
    "    g = 1. / (1. + np.exp(-z))\n",
    "    return g\n",
    "\n",
    "# the logistic regression cost function + gradient\n",
    "def cost_function(theta, x, y):\n",
    "    m = y.size\n",
    "    h = sigmoid(np.dot(x, theta))\n",
    "    J = -1. / m * (np.dot(y, np.log(h)) + np.dot((1-y),np.log(1 - h)))\n",
    "    grad = 1. / m * np.dot((h - y), x)\n",
    "\n",
    "    return J, grad\n",
    "    \n",
    "# Adding the intercept term to X1\n",
    "r, c = x1.shape\n",
    "x11 = np.ones((r, c+1))\n",
    "x11[:, [1,2]] = x1\n",
    "\n",
    "initial_theta = [0, 0, 0]\n",
    "J, grad = cost_function(initial_theta, x11, y1)\n",
    "\n",
    "print 'Cost at initial theta: %f' % (J)\n",
    "print 'Gradients at initial theta:'\n",
    "print grad\n",
    "\n",
    "test_theta = [-24, 0.2, 0.2]\n",
    "J, grad = cost_function(test_theta, x11, y1)\n",
    "print '\\n'\n",
    "print 'Cost at test theta: %f' % (J)\n",
    "print 'Gradients at test theta:'\n",
    "print grad"
   ]
  },
  {
   "cell_type": "markdown",
   "metadata": {
    "collapsed": true
   },
   "source": [
    "### Learning parameters\n",
    "\n",
    "Using scipy's minimize function"
   ]
  },
  {
   "cell_type": "code",
   "execution_count": 38,
   "metadata": {},
   "outputs": [
    {
     "name": "stdout",
     "output_type": "stream",
     "text": [
      "Cost at test initial theta found with scipy.optimize: 0.203498\n",
      "Calculated Gradients\n",
      "[-25.16133284   0.2062317    0.2014716 ]\n"
     ]
    },
    {
     "name": "stderr",
     "output_type": "stream",
     "text": [
      "/usr/local/lib/python2.7/dist-packages/ipykernel_launcher.py:10: RuntimeWarning: divide by zero encountered in log\n",
      "  # Remove the CWD from sys.path while we load stuff.\n"
     ]
    }
   ],
   "source": [
    "opt = minimize(cost_function, initial_theta, args=(x11,y1), method=None, \n",
    "                                    jac=True, options = {'maxiter':400})\n",
    "\n",
    "theta_opt = opt.x\n",
    "print \"Cost at test initial theta found with scipy.optimize: %f\" % opt.fun\n",
    "print \"Calculated Gradients\" \n",
    "print theta_opt\n",
    "## Obviously not suppresing errors. I am at a loss here"
   ]
  },
  {
   "cell_type": "markdown",
   "metadata": {
    "collapsed": true
   },
   "source": [
    "### Decision boundary"
   ]
  },
  {
   "cell_type": "code",
   "execution_count": 39,
   "metadata": {},
   "outputs": [
    {
     "data": {
      "image/png": "[encoded data removed]",
      "text/plain": [
       "<matplotlib.figure.Figure at 0x7faf029213d0>"
      ]
     },
     "metadata": {},
     "output_type": "display_data"
    }
   ],
   "source": [
    "plt.scatter(x1[pos,0],x1[pos,1], color='b', marker='+', \n",
    "                                        label='Admitted')\n",
    "plt.scatter(x1[neg,0],x1[neg,1], color='y', marker='o',\n",
    "                                        label='Not Admitted')\n",
    "\n",
    "x1_min, x1_max = x11[:,1].min(), x11[:,1].max(),\n",
    "x2_min, x2_max = x11[:,2].min(), x11[:,2].max(),\n",
    "xx1, xx2 = np.meshgrid(np.linspace(x1_min, x1_max), np.linspace(x2_min, x2_max))\n",
    "h = sigmoid(np.c_[np.ones((xx1.ravel().shape[0],1)), xx1.ravel(), xx2.ravel()].dot(opt.x))\n",
    "h = h.reshape(xx1.shape)\n",
    "plt.contour(xx1, xx2, h, [0.5], linewidths=1, colors='b')\n",
    "\n",
    "plt.ylabel('Exam 2 Score')\n",
    "plt.xlabel('Exam 1 Score')\n",
    "plt.legend(loc='upper right')\n",
    "\n",
    "plt.show()\n",
    "\n"
   ]
  },
  {
   "cell_type": "markdown",
   "metadata": {
    "collapsed": true
   },
   "source": [
    "### Predict"
   ]
  },
  {
   "cell_type": "code",
   "execution_count": 45,
   "metadata": {},
   "outputs": [
    {
     "name": "stdout",
     "output_type": "stream",
     "text": [
      "For a student with scores 45 and 85, we predict an admission: 0.776291\n"
     ]
    }
   ],
   "source": [
    "prob = sigmoid(np.dot([1, 45, 85], theta_opt))\n",
    "print 'For a student with scores 45 and 85, we predict an admission: %f'% (prob)"
   ]
  },
  {
   "cell_type": "code",
   "execution_count": 71,
   "metadata": {},
   "outputs": [
    {
     "name": "stdout",
     "output_type": "stream",
     "text": [
      "Training accuracy: 89 percent\n"
     ]
    }
   ],
   "source": [
    "def predict(theta, x):\n",
    "    pr_prob = sigmoid(x.dot(theta))\n",
    "    pr_prob = pr_prob >= 0.5\n",
    "    return pr_prob.astype(np.int)\n",
    "\n",
    "\n",
    "p = predict(theta_opt, x11)\n",
    "\n",
    "print 'Training accuracy: %d percent' % ((p == y1).astype(np.int).mean()*100)"
   ]
  }
 ],
 "metadata": {
  "kernelspec": {
   "display_name": "Python 2",
   "language": "python",
   "name": "python2"
  },
  "language_info": {
   "codemirror_mode": {
    "name": "ipython",
    "version": 2
   },
   "file_extension": ".py",
   "mimetype": "text/x-python",
   "name": "python",
   "nbconvert_exporter": "python",
   "pygments_lexer": "ipython2",
   "version": "2.7.13"
  }
 },
 "nbformat": 4,
 "nbformat_minor": 2
}
