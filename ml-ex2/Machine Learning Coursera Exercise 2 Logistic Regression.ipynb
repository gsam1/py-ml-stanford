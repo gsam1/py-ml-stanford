{
 "cells": [
  {
   "cell_type": "markdown",
   "metadata": {},
   "source": [
    "## Programming Exercise 2: Logistic Regression"
   ]
  },
  {
   "cell_type": "markdown",
   "metadata": {},
   "source": [
    "### Setup"
   ]
  },
  {
   "cell_type": "code",
   "execution_count": 1,
   "metadata": {
    "collapsed": true
   },
   "outputs": [],
   "source": [
    "# Setup Code\n",
    "import numpy as np\n",
    "import matplotlib.pyplot as plt\n",
    "# For that Surface plot\n",
    "from mpl_toolkits.mplot3d import Axes3D\n",
    "from matplotlib import cm\n",
    "# For the minimization function\n",
    "from scipy.optimize import minimize\n",
    "data1 = np.loadtxt('ex2data1.txt',delimiter=',')\n",
    "data2 = np.loadtxt('ex2data2.txt',delimiter=',')\n",
    "\n",
    "x1 = data1[:,[0,1]]\n",
    "y1 = data1[:,2]\n",
    "x2 = data2[:,[0,1]]\n",
    "y2 = data2[:,2]\n",
    "\n",
    "m1 = len(y1)\n",
    "m2 = len(y2)"
   ]
  },
  {
   "cell_type": "markdown",
   "metadata": {},
   "source": [
    "### Initial Plot of the data"
   ]
  },
  {
   "cell_type": "code",
   "execution_count": 13,
   "metadata": {},
   "outputs": [
    {
     "data": {
      "image/png": "[encoded data removed]",
      "text/plain": [
       "<matplotlib.figure.Figure at 0x7f90000ffed0>"
      ]
     },
     "metadata": {},
     "output_type": "display_data"
    }
   ],
   "source": [
    "def plot_data(x, y, label_x, label_y):\n",
    "    pos = np.where(y == 1)\n",
    "    neg = np.where(y == 0)\n",
    "\n",
    "    plt.scatter(x[pos,0],x[pos,1], color='b', marker='+', \n",
    "                                            label='Admitted')\n",
    "    plt.scatter(x[neg,0],x[neg,1], color='y', marker='o',\n",
    "                                            label='Not Admitted')\n",
    "    plt.ylabel(label_y)\n",
    "    plt.xlabel(label_x)\n",
    "    plt.legend(loc='upper right')\n",
    "    \n",
    "\n",
    "plot_data(x1, y1, 'Exam 1 Score', 'Exam 2 Score')\n",
    "plt.show()"
   ]
  },
  {
   "cell_type": "markdown",
   "metadata": {},
   "source": [
    "### Implementation"
   ]
  },
  {
   "cell_type": "code",
   "execution_count": 3,
   "metadata": {},
   "outputs": [
    {
     "name": "stdout",
     "output_type": "stream",
     "text": [
      "Cost at initial theta: 0.693147\n",
      "Gradients at initial theta:\n",
      "[ -0.1        -12.00921659 -11.26284221]\n",
      "\n",
      "\n",
      "Cost at test theta: 0.218330\n",
      "Gradients at test theta:\n",
      "[ 0.04290299  2.56623412  2.64679737]\n"
     ]
    }
   ],
   "source": [
    "# the sigmoid function\n",
    "def sigmoid(z):\n",
    "    g = 1. / (1. + np.exp(-z))\n",
    "    return g\n",
    "\n",
    "# the logistic regression cost function + gradient\n",
    "def cost_function(theta, x, y):\n",
    "    m = y.size\n",
    "    h = sigmoid(np.dot(x, theta))\n",
    "    J = -1. / m * (np.dot(y, np.log(h)) + np.dot((1-y),np.log(1 - h)))\n",
    "    grad = 1. / m * np.dot((h - y), x)\n",
    "\n",
    "    return J, grad\n",
    "    \n",
    "# Adding the intercept term to X1\n",
    "r, c = x1.shape\n",
    "x11 = np.ones((r, c+1))\n",
    "x11[:, [1,2]] = x1\n",
    "\n",
    "initial_theta = [0, 0, 0]\n",
    "J, grad = cost_function(initial_theta, x11, y1)\n",
    "\n",
    "print 'Cost at initial theta: %f' % (J)\n",
    "print 'Gradients at initial theta:'\n",
    "print grad\n",
    "\n",
    "test_theta = [-24, 0.2, 0.2]\n",
    "J, grad = cost_function(test_theta, x11, y1)\n",
    "print '\\n'\n",
    "print 'Cost at test theta: %f' % (J)\n",
    "print 'Gradients at test theta:'\n",
    "print grad"
   ]
  },
  {
   "cell_type": "markdown",
   "metadata": {
    "collapsed": true
   },
   "source": [
    "### Learning parameters\n",
    "\n",
    "Using scipy's minimize function"
   ]
  },
  {
   "cell_type": "code",
   "execution_count": 4,
   "metadata": {},
   "outputs": [
    {
     "name": "stdout",
     "output_type": "stream",
     "text": [
      "Cost at test initial theta found with scipy.optimize: 0.203498\n",
      "Calculated Gradients\n",
      "[-25.16133284   0.2062317    0.2014716 ]\n"
     ]
    },
    {
     "name": "stderr",
     "output_type": "stream",
     "text": [
      "/usr/local/lib/python2.7/dist-packages/ipykernel_launcher.py:10: RuntimeWarning: divide by zero encountered in log\n",
      "  # Remove the CWD from sys.path while we load stuff.\n"
     ]
    }
   ],
   "source": [
    "opt = minimize(cost_function, initial_theta, args=(x11,y1), method=None, \n",
    "                                    jac=True, options = {'maxiter':400})\n",
    "\n",
    "theta_opt = opt.x\n",
    "print \"Cost at test initial theta found with scipy.optimize: %f\" % opt.fun\n",
    "print \"Calculated Gradients\" \n",
    "print theta_opt\n",
    "## Obviously not suppresing errors. I am at a loss here"
   ]
  },
  {
   "cell_type": "markdown",
   "metadata": {
    "collapsed": true
   },
   "source": [
    "### Decision boundary"
   ]
  },
  {
   "cell_type": "code",
   "execution_count": 14,
   "metadata": {},
   "outputs": [
    {
     "data": {
      "image/png": "[encoded data removed]",
      "text/plain": [
       "<matplotlib.figure.Figure at 0x7f90001a3290>"
      ]
     },
     "metadata": {},
     "output_type": "display_data"
    }
   ],
   "source": [
    "plot_data(x1, y1, 'Exam 1 Score', 'Exam 2 Score')\n",
    "\n",
    "x1_min, x1_max = x11[:,1].min(), x11[:,1].max(),\n",
    "x2_min, x2_max = x11[:,2].min(), x11[:,2].max(),\n",
    "xx1, xx2 = np.meshgrid(np.linspace(x1_min, x1_max), np.linspace(x2_min, x2_max))\n",
    "h = sigmoid(np.c_[np.ones((xx1.ravel().shape[0],1)), xx1.ravel(), xx2.ravel()].dot(opt.x))\n",
    "h = h.reshape(xx1.shape)\n",
    "plt.contour(xx1, xx2, h, [0.5], linewidths=1, colors='b')\n",
    "plt.show()\n"
   ]
  },
  {
   "cell_type": "markdown",
   "metadata": {
    "collapsed": true
   },
   "source": [
    "### Predict"
   ]
  },
  {
   "cell_type": "code",
   "execution_count": 6,
   "metadata": {},
   "outputs": [
    {
     "name": "stdout",
     "output_type": "stream",
     "text": [
      "For a student with scores 45 and 85, we predict an admission: 0.776291\n"
     ]
    }
   ],
   "source": [
    "prob = sigmoid(np.dot([1, 45, 85], theta_opt))\n",
    "print 'For a student with scores 45 and 85, we predict an admission: %f'% (prob)"
   ]
  },
  {
   "cell_type": "code",
   "execution_count": 7,
   "metadata": {},
   "outputs": [
    {
     "name": "stdout",
     "output_type": "stream",
     "text": [
      "Training accuracy: 89 percent\n"
     ]
    }
   ],
   "source": [
    "def predict(theta, x):\n",
    "    pr_prob = sigmoid(x.dot(theta))\n",
    "    pr_prob = pr_prob >= 0.5\n",
    "    return pr_prob.astype(np.int)\n",
    "\n",
    "\n",
    "p = predict(theta_opt, x11)\n",
    "\n",
    "print 'Training accuracy: %d percent' % ((p == y1).astype(np.int).mean()*100)"
   ]
  },
  {
   "cell_type": "markdown",
   "metadata": {},
   "source": [
    "### Regularized logistic regression"
   ]
  },
  {
   "cell_type": "markdown",
   "metadata": {},
   "source": [
    "#### Visualizing the data"
   ]
  },
  {
   "cell_type": "code",
   "execution_count": 15,
   "metadata": {
    "scrolled": true
   },
   "outputs": [
    {
     "data": {
      "image/png": "[encoded data removed]",
      "text/plain": [
       "<matplotlib.figure.Figure at 0x7f90005d8810>"
      ]
     },
     "metadata": {},
     "output_type": "display_data"
    }
   ],
   "source": [
    "plot_data(x2, y2, 'Microchip Test 1', 'Microchip Test 2')\n",
    "plt.show()"
   ]
  },
  {
   "cell_type": "markdown",
   "metadata": {},
   "source": [
    "#### Feature mapping"
   ]
  },
  {
   "cell_type": "code",
   "execution_count": 23,
   "metadata": {},
   "outputs": [],
   "source": [
    "def map_feature(xa, xb, degree):\n",
    "    out = np.ones((xa.size, degree))\n",
    "    for i in range(0, degree):\n",
    "        for j in range(0, i):\n",
    "            out[:, i] = np.dot((xa ** (i - j)), (xb ** j))\n",
    "    \n",
    "    return out"
   ]
  },
  {
   "cell_type": "markdown",
   "metadata": {},
   "source": [
    "#### Regularized Cost Function"
   ]
  },
  {
   "cell_type": "code",
   "execution_count": 73,
   "metadata": {},
   "outputs": [
    {
     "name": "stdout",
     "output_type": "stream",
     "text": [
      "Cost at initial theta: 0.693147\n",
      "Gradients at initial theta:\n",
      "[[ 0.00847458]\n",
      " [ 0.05477891]\n",
      " [-0.02547184]\n",
      " [ 0.01548251]\n",
      " [-0.01104819]\n",
      " [ 0.00408908]]\n"
     ]
    }
   ],
   "source": [
    "def cost_fun_reg(theta, x, y, lamb):\n",
    "    m = y.size\n",
    "    y = y.reshape(y.size, 1)\n",
    "    reg_factor = lamb / (2 * m) * np.sum(np.dot(theta.T,theta) - theta[:, 0]**2)\n",
    "    h = sigmoid(np.dot(x, theta))\n",
    "    J = -1. / m * (np.dot(y.T, np.log(h)) + np.dot((1-y).T,np.log(1 - h))) + reg_factor\n",
    "    reg_grad = lamb/m * np.r_[[[0]], theta[1:].reshape(-1,1)]\n",
    "    grad = 1. / m * np.dot(x.T, (h - y)) + reg_grad\n",
    "    \n",
    "    return J, grad\n",
    "\n",
    "xmp = map_feature(x2[:, 0], x2[:, 1], 6)\n",
    "initial_theta = np.zeros((xmp.shape[1],1))\n",
    "\n",
    "cost, grd = cost_fun_reg(initial_theta, xmp, y2, 1)\n",
    "\n",
    "print 'Cost at initial theta: %f' % (cost)\n",
    "print 'Gradients at initial theta:'\n",
    "print grd"
   ]
  },
  {
   "cell_type": "code",
   "execution_count": null,
   "metadata": {
    "collapsed": true
   },
   "outputs": [],
   "source": []
  }
 ],
 "metadata": {
  "kernelspec": {
   "display_name": "Python 2",
   "language": "python",
   "name": "python2"
  },
  "language_info": {
   "codemirror_mode": {
    "name": "ipython",
    "version": 2
   },
   "file_extension": ".py",
   "mimetype": "text/x-python",
   "name": "python",
   "nbconvert_exporter": "python",
   "pygments_lexer": "ipython2",
   "version": "2.7.13"
  }
 },
 "nbformat": 4,
 "nbformat_minor": 2
}
