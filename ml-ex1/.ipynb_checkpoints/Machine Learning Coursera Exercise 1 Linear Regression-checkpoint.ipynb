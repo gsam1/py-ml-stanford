{
 "cells": [
  {
   "cell_type": "markdown",
   "metadata": {},
   "source": [
    "# Machine Learning Coursera\n",
    "Link [here](https://www.coursera.org/learn/machine-learning) to the course.\n",
    "\n",
    "## Preface\n",
    "Just some general words on what am I doing. Since I want to practice python and machine learning (besides my other side projects and courses I am taking) what better way than re-writing all of the exercises from Coursera's famous Machine Learning course by Andrew Ng in Python.\n",
    "\n",
    "## Programming Exercise 1: Linear Regression"
   ]
  },
  {
   "cell_type": "markdown",
   "metadata": {},
   "source": [
    "**Setup**"
   ]
  },
  {
   "cell_type": "code",
   "execution_count": 2,
   "metadata": {
    "collapsed": true
   },
   "outputs": [],
   "source": [
    "# Setup Code\n",
    "import numpy as np\n",
    "import matplotlib.pyplot as plt\n",
    "\n",
    "data = np.loadtxt('ex1data1.txt',delimiter=',')\n",
    "X = data[:, 0]\n",
    "y = data[:, 1]\n",
    "m = len(y)"
   ]
  },
  {
   "cell_type": "markdown",
   "metadata": {},
   "source": [
    "**Plotting**"
   ]
  },
  {
   "cell_type": "code",
   "execution_count": 3,
   "metadata": {},
   "outputs": [
    {
     "data": {
      "image/png": "[encoded data removed]",
      "text/plain": [
       "<matplotlib.figure.Figure at 0x7fbe77390d90>"
      ]
     },
     "metadata": {},
     "output_type": "display_data"
    }
   ],
   "source": [
    "plt.scatter(X,y, color='r', marker='x')\n",
    "plt.ylabel('Profit in $10,000s');\n",
    "plt.xlabel('Population of City in 10,000s')\n",
    "plt.show()"
   ]
  },
  {
   "cell_type": "markdown",
   "metadata": {},
   "source": [
    "### 1. Linear regression with one variable\n",
    "**Gradient Descent**"
   ]
  },
  {
   "cell_type": "code",
   "execution_count": 77,
   "metadata": {},
   "outputs": [
    {
     "name": "stdout",
     "output_type": "stream",
     "text": [
      "Initial cost: [[ 32.07273388]]\n",
      "(array([-3.63029144,  1.16636235]), array([ 6.73719046,  5.93159357,  5.90115471, ...,  4.48343473,\n",
      "        4.48341145,  4.48338826]))\n"
     ]
    }
   ],
   "source": [
    "# Adding a column of ones to X\n",
    "Xgd = np.transpose(np.matrix((np.ones(m), X)))\n",
    "Ygd = y.reshape((m,1)) # probably should do this at the beginning\n",
    "# Initializing Theta\n",
    "theta_gd = np.zeros(2)\n",
    "\n",
    "# Intial Parameters, used for GD\n",
    "iterations = 1500\n",
    "alpha_gd = 0.01\n",
    "\n",
    "# print y.reshape((m,1))\n",
    "# And now the cost function\n",
    "# which I will separate in a function to keep the consistency\n",
    "def compute_cost(x, y, theta):\n",
    "    # Calculating the Cost\n",
    "    J = 1.0 / (2 * m) * sum(np.power((theta[0]*x[:,0] + theta[1]*x[:,1] - y),2))\n",
    "    return J\n",
    "\n",
    "def gradient_descent(x, y, theta, alpha, num_iters):\n",
    "    J_history = np.zeros(num_iters)\n",
    "    \n",
    "    for i in range(0,num_iters):\n",
    "        theta_1_temp = theta[0] - alpha / m * sum(np.multiply((theta[0] * x[:,0] + theta[1] * x[:,1] - y), x[:,0]))\n",
    "        theta_2_temp = theta[1] - alpha / m * sum(np.multiply((theta[0] * x[:,0] + theta[1] * x[:,1] - y), x[:,1]))\n",
    "        theta[0] = theta_1_temp\n",
    "        theta[1] = theta_2_temp\n",
    "        # Updating the cost\n",
    "        J_history[i] = compute_cost(x, y, theta)\n",
    "\n",
    "        \n",
    "    \n",
    "    return theta, J_history\n",
    "            \n",
    "cost = compute_cost(Xgd, Ygd, theta_gd)\n",
    "print \"Initial cost: \" + str(cost)\n",
    "cost_gd = gradient_descent(Xgd, Ygd, theta_gd, alpha_gd, iterations)\n",
    "print cost_gd"
   ]
  },
  {
   "cell_type": "markdown",
   "metadata": {},
   "source": [
    "**Verifying that gradient descent is working correctly** \n",
    "Plotting the cost function vs the number of iterations, and if the cost is decreasing - it is implemented correct."
   ]
  },
  {
   "cell_type": "code",
   "execution_count": 79,
   "metadata": {},
   "outputs": [
    {
     "data": {
      "image/png": "[encoded data removed]",
      "text/plain": [
       "<matplotlib.figure.Figure at 0x7fbe743d0cd0>"
      ]
     },
     "metadata": {},
     "output_type": "display_data"
    }
   ],
   "source": [
    "plt.plot(range(0, iterations), cost_gd[1])\n",
    "plt.xlabel('Number of itterations')\n",
    "plt.ylabel('Cost')\n",
    "plt.show()"
   ]
  },
  {
   "cell_type": "code",
   "execution_count": null,
   "metadata": {
    "collapsed": true
   },
   "outputs": [],
   "source": []
  }
 ],
 "metadata": {
  "kernelspec": {
   "display_name": "Python 2",
   "language": "python",
   "name": "python2"
  },
  "language_info": {
   "codemirror_mode": {
    "name": "ipython",
    "version": 2
   },
   "file_extension": ".py",
   "mimetype": "text/x-python",
   "name": "python",
   "nbconvert_exporter": "python",
   "pygments_lexer": "ipython2",
   "version": "2.7.13"
  }
 },
 "nbformat": 4,
 "nbformat_minor": 2
}
