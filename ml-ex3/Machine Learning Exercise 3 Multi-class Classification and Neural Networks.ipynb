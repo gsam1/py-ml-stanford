{
 "cells": [
  {
   "cell_type": "markdown",
   "metadata": {},
   "source": [
    "## Programming Exercise 3: Multi-class Classification and Neural Networks"
   ]
  },
  {
   "cell_type": "markdown",
   "metadata": {},
   "source": [
    "#### Setup"
   ]
  },
  {
   "cell_type": "code",
   "execution_count": 1,
   "metadata": {
    "collapsed": true
   },
   "outputs": [],
   "source": [
    "import numpy as np\n",
    "from scipy.io import loadmat\n",
    "from scipy.optimize import minimize\n",
    "import matplotlib.pyplot as plt\n",
    "\n",
    "data = loadmat('ex3data1.mat')\n",
    "X = data['X']\n",
    "y = data['y']\n",
    "\n",
    "weights = loadmat('ex3weights.mat')\n",
    "theta1 = weights['Theta1']\n",
    "theta2 = weights['Theta2']\n",
    "m = X.shape[0]\n",
    "X_pad = np.c_[np.ones((m, 1)), X]"
   ]
  },
  {
   "cell_type": "markdown",
   "metadata": {},
   "source": [
    "#### Displaying Data"
   ]
  },
  {
   "cell_type": "code",
   "execution_count": 3,
   "metadata": {},
   "outputs": [
    {
     "data": {
      "image/png": "[encoded data removed]",
      "text/plain": [
       "<matplotlib.figure.Figure at 0x7f2c62d4d810>"
      ]
     },
     "metadata": {},
     "output_type": "display_data"
    }
   ],
   "source": [
    "rand_indices = np.random.choice(m, 20)\n",
    "sel1 = X_pad[rand_indices[0:20], 1:].reshape(-1,20).T\n",
    "\n",
    "plt.imshow(sel1, cmap='gray_r')\n",
    "plt.axis('off');\n",
    "plt.show()\n",
    "# Showing one line from the data"
   ]
  },
  {
   "cell_type": "markdown",
   "metadata": {},
   "source": [
    "#### Logistic Regression Cost Function\n",
    "For the test values we have:\n",
    "* **Expected cost**: 2.534819\n",
    "* **Expected gradients**: [0.146561 -0.548558 0.724722 1.398003]"
   ]
  },
  {
   "cell_type": "code",
   "execution_count": 73,
   "metadata": {},
   "outputs": [
    {
     "name": "stdout",
     "output_type": "stream",
     "text": [
      "2.53481939611 [ 0.14656137 -0.54855841  0.72472227  1.39800296]\n"
     ]
    }
   ],
   "source": [
    "def sigmoid(x):\n",
    "    return 1. / (1. + np.exp(-x))\n",
    "\n",
    "def lr_cost_function(theta, x, y, lam):\n",
    "    _m = y.size\n",
    "    temp = np.copy(theta)\n",
    "    temp[0] = 0\n",
    "    h = sigmoid(x.dot(theta))   \n",
    "    J_regf = float(lam) / (2. * _m) * np.sum(np.square(temp))\n",
    "    J = -1. / _m * (np.log(h).T.dot(y) + np.log(1-h).T.dot(1-y)) + J_regf\n",
    "    \n",
    "    return J\n",
    "\n",
    "def lr_gradient(theta, x, y, lam):\n",
    "    _m = y.size\n",
    "    y = y.reshape(-1,1)\n",
    "    temp = np.copy(theta)\n",
    "    temp[0] = 0\n",
    "    h = sigmoid(x.dot(theta.reshape(-1,1)))\n",
    "    g_regf = (float(lam) / _m * temp).reshape(-1,1)\n",
    "    grad = (1. / _m) * x.T.dot(h - y) + g_regf\n",
    "    \n",
    "    return (grad.flatten())\n",
    "\n",
    "# Testing the Logistic Regression Cost Function\n",
    "theta_t = np.array([-2, -1, 1, 2])\n",
    "X_t = np.concatenate((np.ones((1,5)), (np.arange(1., 16.)/10).reshape(-1,5))).T\n",
    "y_t = np.array([1, 0, 1, 0, 1])\n",
    "lambda_t = 3\n",
    "\n",
    "\n",
    "J, grad = (lr_cost_function(theta_t, X_t, y_t, lambda_t), lr_gradient(theta_t, X_t, y_t, lambda_t))\n",
    "print J, grad"
   ]
  },
  {
   "cell_type": "markdown",
   "metadata": {},
   "source": [
    "#### Predict for One-Vs-All"
   ]
  },
  {
   "cell_type": "code",
   "execution_count": 75,
   "metadata": {},
   "outputs": [],
   "source": [
    "def one_vs_all(x, y, num_labels, lam):\n",
    "    all_theta = np.zeros((num_labels, x.shape[1]))\n",
    "    initial_theta = np.zeros((x.shape[1],1))\n",
    "    \n",
    "    for i in np.arange(1, num_labels+1):\n",
    "        tht = minimize(lr_cost_function, initial_theta, \\\n",
    "                       args = (x, (y == i)*1, lam), \\\n",
    "                       method=None, jac=lr_gradient, \\\n",
    "                      options={'maxiter':100})\n",
    "        all_theta[i-1] = tht.x\n",
    "        \n",
    "    return all_theta\n",
    "\n",
    "def predict_one_vs_all(all_theta, x):\n",
    "    probability = sigmoid(x.dot(all_theta.T))\n",
    "    return np.argmax(probability, axis=1) + 1\n",
    "\n",
    "\n",
    "\n",
    "new_theta = one_vs_all(X_pad, y, 10, 0.1)\n",
    "pred = predict_one_vs_all(theta1, X_pad)\n",
    "\n"
   ]
  },
  {
   "cell_type": "code",
   "execution_count": null,
   "metadata": {
    "collapsed": true
   },
   "outputs": [],
   "source": []
  }
 ],
 "metadata": {
  "kernelspec": {
   "display_name": "Python 2",
   "language": "python",
   "name": "python2"
  },
  "language_info": {
   "codemirror_mode": {
    "name": "ipython",
    "version": 2
   },
   "file_extension": ".py",
   "mimetype": "text/x-python",
   "name": "python",
   "nbconvert_exporter": "python",
   "pygments_lexer": "ipython2",
   "version": "2.7.13"
  }
 },
 "nbformat": 4,
 "nbformat_minor": 2
}
