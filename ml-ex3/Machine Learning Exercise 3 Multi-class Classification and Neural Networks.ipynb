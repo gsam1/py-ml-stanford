{
 "cells": [
  {
   "cell_type": "markdown",
   "metadata": {},
   "source": [
    "## Programming Exercise 3: Multi-class Classification and Neural Networks"
   ]
  },
  {
   "cell_type": "markdown",
   "metadata": {},
   "source": [
    "#### Setup"
   ]
  },
  {
   "cell_type": "code",
   "execution_count": 2,
   "metadata": {
    "collapsed": true
   },
   "outputs": [],
   "source": [
    "import numpy as np\n",
    "from scipy.io import loadmat\n",
    "from scipy.optimize import minimize\n",
    "import matplotlib.pyplot as plt\n",
    "\n",
    "data = loadmat('ex3data1.mat')\n",
    "X = data['X']\n",
    "y = data['y']\n",
    "\n",
    "weights = loadmat('ex3weights.mat')\n",
    "theta1 = weights['Theta1']\n",
    "theta2 = weights['Theta2']\n",
    "m = X.shape[0]\n",
    "X_pad = np.c_[np.ones((m, 1)), X]"
   ]
  },
  {
   "cell_type": "markdown",
   "metadata": {},
   "source": [
    "#### Displaying Data"
   ]
  },
  {
   "cell_type": "code",
   "execution_count": 3,
   "metadata": {},
   "outputs": [
    {
     "data": {
      "image/png": "[encoded data removed]",
      "text/plain": [
       "<matplotlib.figure.Figure at 0x7fbadd5417d0>"
      ]
     },
     "metadata": {},
     "output_type": "display_data"
    }
   ],
   "source": [
    "rand_indices = np.random.choice(m, 20)\n",
    "sel1 = X_pad[rand_indices[0:20], 1:].reshape(-1,20).T\n",
    "\n",
    "plt.imshow(sel1, cmap='gray_r')\n",
    "plt.axis('off');\n",
    "plt.show()\n",
    "# Showing one line from the data"
   ]
  },
  {
   "cell_type": "markdown",
   "metadata": {},
   "source": [
    "### Logistic Regression Cost Function\n",
    "For the test values we have:\n",
    "* **Expected cost**: 2.534819\n",
    "* **Expected gradients**: [0.146561 -0.548558 0.724722 1.398003]"
   ]
  },
  {
   "cell_type": "code",
   "execution_count": 5,
   "metadata": {},
   "outputs": [
    {
     "name": "stdout",
     "output_type": "stream",
     "text": [
      "2.53481939611 [ 0.14656137 -0.54855841  0.72472227  1.39800296]\n"
     ]
    }
   ],
   "source": [
    "def sigmoid(x):\n",
    "    return 1. / (1. + np.exp(-x))\n",
    "\n",
    "def lr_cost_function(theta, x, y, lam):\n",
    "    _m = y.size\n",
    "    temp = np.copy(theta)\n",
    "    temp[0] = 0\n",
    "    h = sigmoid(x.dot(theta))   \n",
    "    J_regf = float(lam) / (2. * _m) * np.sum(np.square(temp))\n",
    "    J = -1. / _m * (np.log(h).T.dot(y) + np.log(1-h).T.dot(1-y)) + J_regf\n",
    "    \n",
    "    return J\n",
    "\n",
    "def lr_gradient(theta, x, y, lam):\n",
    "    _m = y.size\n",
    "    y = y.reshape(-1,1)\n",
    "    temp = np.copy(theta)\n",
    "    temp[0] = 0\n",
    "    h = sigmoid(x.dot(theta.reshape(-1,1)))\n",
    "    g_regf = (float(lam) / _m * temp).reshape(-1,1)\n",
    "    grad = (1. / _m) * x.T.dot(h - y) + g_regf\n",
    "    \n",
    "    return (grad.flatten())\n",
    "\n",
    "# Testing the Logistic Regression Cost Function\n",
    "theta_t = np.array([-2, -1, 1, 2])\n",
    "X_t = np.concatenate((np.ones((1,5)), (np.arange(1., 16.)/10).reshape(-1,5))).T\n",
    "y_t = np.array([1, 0, 1, 0, 1])\n",
    "lambda_t = 3\n",
    "\n",
    "\n",
    "J, grad = (lr_cost_function(theta_t, X_t, y_t, lambda_t), lr_gradient(theta_t, X_t, y_t, lambda_t))\n",
    "print J, grad"
   ]
  },
  {
   "cell_type": "markdown",
   "metadata": {},
   "source": [
    "### Predict for One-Vs-All"
   ]
  },
  {
   "cell_type": "code",
   "execution_count": 28,
   "metadata": {},
   "outputs": [],
   "source": [
    "def one_vs_all(x, y, num_labels, lam):\n",
    "    all_theta = np.zeros((num_labels, x.shape[1]))\n",
    "    initial_theta = np.zeros((x.shape[1],1))\n",
    "    \n",
    "    for i in np.arange(1, num_labels+1):\n",
    "        tht = minimize(lr_cost_function, initial_theta, \\\n",
    "                       args = (x, (y == i)*1, lam), \\\n",
    "                       method=None, jac=lr_gradient, \\\n",
    "                      options={'maxiter':50})\n",
    "        all_theta[i-1] = tht.x\n",
    "        \n",
    "    return all_theta\n",
    "\n",
    "def predict_one_vs_all(all_theta, x):\n",
    "    probabilities = sigmoid(x.dot(all_theta.T))\n",
    "    return np.argmax(probabilities, axis=1)+1\n",
    "\n",
    "\n",
    "\n",
    "new_theta = one_vs_all(X_pad, y, 10, 0.1)\n",
    "pred = predict_one_vs_all(new_theta, X_pad)\n",
    "accuracy = np.mean(pred == y.flatten())*100"
   ]
  },
  {
   "cell_type": "code",
   "execution_count": 30,
   "metadata": {},
   "outputs": [
    {
     "name": "stdout",
     "output_type": "stream",
     "text": [
      "One-vs-All Training Accuracy: 93.240000\n"
     ]
    }
   ],
   "source": [
    "print 'One-vs-All Training Accuracy: %f' % accuracy"
   ]
  },
  {
   "cell_type": "markdown",
   "metadata": {},
   "source": [
    "The prediction of 93.24 is slightly below the expected value, but it is close."
   ]
  },
  {
   "cell_type": "markdown",
   "metadata": {},
   "source": [
    "### Neural Networks\n",
    "Implementing a simple feedforward neural network"
   ]
  },
  {
   "cell_type": "code",
   "execution_count": 55,
   "metadata": {},
   "outputs": [],
   "source": [
    "def predict_neural_network(theta_1, theta_2, x):\n",
    "    a2 = sigmoid(x.dot(theta_1.T))\n",
    "    a2 = np.c_[np.ones((a2.shape[0], 1)), a2]\n",
    "    return np.argmax(sigmoid(a2.dot(theta_2.T)), axis=1)+1"
   ]
  },
  {
   "cell_type": "markdown",
   "metadata": {},
   "source": [
    "The implementation is simple - just feeding the sole hidden layer, than adjusting the output layer after that."
   ]
  },
  {
   "cell_type": "code",
   "execution_count": 59,
   "metadata": {},
   "outputs": [],
   "source": [
    "nn_predictions = predict_neural_network(theta1, theta2, X_pad)"
   ]
  },
  {
   "cell_type": "markdown",
   "metadata": {},
   "source": [
    "Now for the accuracy of the predictions"
   ]
  },
  {
   "cell_type": "code",
   "execution_count": 60,
   "metadata": {},
   "outputs": [
    {
     "name": "stdout",
     "output_type": "stream",
     "text": [
      "Neural Network accuracy: 97.520000\n"
     ]
    }
   ],
   "source": [
    "nn_accuracy = np.mean(nn_predictions == y.flatten())*100\n",
    "print \"Neural Network accuracy: %f\" % (nn_accuracy)"
   ]
  }
 ],
 "metadata": {
  "kernelspec": {
   "display_name": "Python 2",
   "language": "python",
   "name": "python2"
  },
  "language_info": {
   "codemirror_mode": {
    "name": "ipython",
    "version": 2
   },
   "file_extension": ".py",
   "mimetype": "text/x-python",
   "name": "python",
   "nbconvert_exporter": "python",
   "pygments_lexer": "ipython2",
   "version": "2.7.13"
  }
 },
 "nbformat": 4,
 "nbformat_minor": 2
}
